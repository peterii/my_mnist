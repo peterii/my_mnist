{
 "cells": [
  {
   "cell_type": "code",
   "execution_count": 3,
   "metadata": {},
   "outputs": [
    {
     "name": "stdout",
     "output_type": "stream",
     "text": [
      "Extracting MNIST_data\\train-images-idx3-ubyte.gz\n",
      "Extracting MNIST_data\\train-labels-idx1-ubyte.gz\n",
      "Extracting MNIST_data\\t10k-images-idx3-ubyte.gz\n",
      "Extracting MNIST_data\\t10k-labels-idx1-ubyte.gz\n",
      "INFO:tensorflow:Using default config.\n",
      "INFO:tensorflow:Using config: {'_task_type': 'worker', '_num_ps_replicas': 0, '_task_id': 0, '_num_worker_replicas': 1, '_save_checkpoints_steps': None, '_save_summary_steps': 100, '_tf_random_seed': None, '_log_step_count_steps': 100, '_cluster_spec': <tensorflow.python.training.server_lib.ClusterSpec object at 0x000000000BDDD2E8>, '_save_checkpoints_secs': 600, '_keep_checkpoint_every_n_hours': 10000, '_keep_checkpoint_max': 5, '_model_dir': 'MNIST_result', '_master': '', '_service': None, '_session_config': None, '_is_chief': True}\n",
      "INFO:tensorflow:Create CheckpointSaverHook.\n",
      "INFO:tensorflow:Saving checkpoints for 1 into MNIST_result\\model.ckpt.\n",
      "INFO:tensorflow:loss = 304.116, step = 1\n",
      "INFO:tensorflow:global_step/sec: 147.05\n",
      "INFO:tensorflow:loss = 43.8647, step = 101 (0.719 sec)\n",
      "INFO:tensorflow:global_step/sec: 98.5165\n",
      "INFO:tensorflow:loss = 55.9589, step = 201 (0.980 sec)\n",
      "INFO:tensorflow:global_step/sec: 79.8039\n",
      "INFO:tensorflow:loss = 35.0387, step = 301 (1.252 sec)\n",
      "INFO:tensorflow:global_step/sec: 101.517\n",
      "INFO:tensorflow:loss = 42.167, step = 401 (0.987 sec)\n",
      "INFO:tensorflow:global_step/sec: 96.7063\n",
      "INFO:tensorflow:loss = 35.5254, step = 501 (1.039 sec)\n",
      "INFO:tensorflow:global_step/sec: 81.8954\n",
      "INFO:tensorflow:loss = 21.1028, step = 601 (1.214 sec)\n",
      "INFO:tensorflow:global_step/sec: 76.0413\n",
      "INFO:tensorflow:loss = 24.6746, step = 701 (1.315 sec)\n",
      "INFO:tensorflow:global_step/sec: 59.485\n",
      "INFO:tensorflow:loss = 47.3183, step = 801 (1.686 sec)\n",
      "INFO:tensorflow:global_step/sec: 102.769\n",
      "INFO:tensorflow:loss = 34.3429, step = 901 (0.969 sec)\n",
      "INFO:tensorflow:Saving checkpoints for 1000 into MNIST_result\\model.ckpt.\n",
      "INFO:tensorflow:Loss for final step: 36.7393.\n",
      "INFO:tensorflow:Starting evaluation at 2017-11-15-07:49:57\n",
      "INFO:tensorflow:Restoring parameters from MNIST_result\\model.ckpt-1000\n",
      "INFO:tensorflow:Finished evaluation at 2017-11-15-07:49:59\n",
      "INFO:tensorflow:Saving dict for global step 1000: accuracy = 0.9424, average_loss = 0.190413, global_step = 1000, loss = 24.1029\n",
      "0.9424\n"
     ]
    }
   ],
   "source": [
    "from tensorflow.examples.tutorials.mnist import input_data\n",
    "\n",
    "import tensorflow as tf\n",
    "import numpy as np\n",
    "\n",
    "mnist = input_data.read_data_sets('MNIST_data')\n",
    "\n",
    "feature_columns = [tf.feature_column.numeric_column(key='image', shape=[784])]\n",
    "\n",
    "classifier = tf.estimator.DNNClassifier(\n",
    "    feature_columns = feature_columns,\n",
    "    model_dir = 'MNIST_result',\n",
    "    n_classes = 10,\n",
    "    hidden_units = [30])\n",
    "\n",
    "train_input_fn = tf.estimator.inputs.numpy_input_fn(\n",
    "    x = {'image': mnist.train.images},\n",
    "    y = np.array(mnist.train.labels, dtype=np.int32),\n",
    "    num_epochs = 10,\n",
    "    shuffle = True )\n",
    "\n",
    "classifier.train(\n",
    "    input_fn=train_input_fn,\n",
    "    steps= 1000 )\n",
    "\n",
    "test_input_fn = tf.estimator.inputs.numpy_input_fn(\n",
    "    x = {'image': mnist.test.images},\n",
    "    y = np.array(mnist.test.labels, dtype=np.int32),\n",
    "    num_epochs = 1,\n",
    "    shuffle = False )\n",
    "\n",
    "print(classifier.evaluate(input_fn=test_input_fn)['accuracy'])"
   ]
  },
  {
   "cell_type": "code",
   "execution_count": null,
   "metadata": {},
   "outputs": [],
   "source": []
  }
 ],
 "metadata": {
  "kernelspec": {
   "display_name": "Python 3",
   "language": "python",
   "name": "python3"
  },
  "language_info": {
   "codemirror_mode": {
    "name": "ipython",
    "version": 3
   },
   "file_extension": ".py",
   "mimetype": "text/x-python",
   "name": "python",
   "nbconvert_exporter": "python",
   "pygments_lexer": "ipython3",
   "version": "3.5.4"
  }
 },
 "nbformat": 4,
 "nbformat_minor": 2
}
