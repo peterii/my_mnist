{
 "cells": [
  {
   "cell_type": "code",
   "execution_count": 3,
   "metadata": {},
   "outputs": [
    {
     "name": "stdout",
     "output_type": "stream",
     "text": [
      "Extracting MNIST\\train-images-idx3-ubyte.gz\n",
      "Extracting MNIST\\train-labels-idx1-ubyte.gz\n",
      "Extracting MNIST\\t10k-images-idx3-ubyte.gz\n",
      "Extracting MNIST\\t10k-labels-idx1-ubyte.gz\n",
      "30 0.1162\n"
     ]
    }
   ],
   "source": [
    "from tensorflow.examples.tutorials.mnist import input_data\n",
    "mnist = input_data.read_data_sets('MNIST', one_hot=True)\n",
    "\n",
    "import numpy as np\n",
    "\n",
    "epochs =  30\n",
    "batch_size = 10\n",
    "batch_nums = mnist.train.num_examples//batch_size\n",
    "learning_rate = 3\n",
    "hidden_nodes = 30\n",
    "\n",
    "def sigmoid(z):\n",
    "    return 1 / (1+np.exp(-z))\n",
    "\n",
    "W1 = np.random.randn(784, hidden_nodes)\n",
    "b1 = np.random.randn(hidden_nodes)\n",
    "W2 = np.random.randn(hidden_nodes, 10)\n",
    "b2 = np.random.randn(10)\n",
    "\n",
    "for i in range(epochs*batch_nums):\n",
    "    xs, ys = mnist.train.next_batch(batch_size)\n",
    "    \n",
    "    dW1 = np.zeros(W1.shape)\n",
    "    db1 = np.zeros(b1.shape)\n",
    "    dW2 = np.zeros(W2.shape)\n",
    "    db2 = np.zeros(b2.shape)\n",
    "    \n",
    "    for x, y in zip(xs, ys):\n",
    "        a0 = x\n",
    "        \n",
    "        z1 = np.dot(x, W1) + b1\n",
    "        a1 = sigmoid(z1)\n",
    "        a1_prime = a1 * (1-a1)\n",
    "        \n",
    "        z2 = np.dot(a1, W2) + b2\n",
    "        a2 = sigmoid(z2)\n",
    "        a2_prime = a2 * (1-a2)\n",
    "        \n",
    "        cost_derivative = a2 -y\n",
    "        delta = cost_derivative * a2_prime\n",
    "        dW2 += np.dot(a1[:, None], delta[None, :])\n",
    "        db2 += delta\n",
    "        \n",
    "        delta = np.dot(W2, delta) * a1_prime\n",
    "        dW1 += np.dot(a0[:, None], delta[None, :])\n",
    "        db1 += delta\n",
    "        \n",
    "W1 -= (learning_rate/batch_size) * dW1\n",
    "b1 -= (learning_rate/batch_size) * db1\n",
    "W2 -= (learning_rate/batch_size) * dW2\n",
    "b2 -= (learning_rate/batch_size) * db2\n",
    "\n",
    "if( (i+1)%batch_nums == 0):\n",
    "    count = 0\n",
    "    match = 0\n",
    "    for x, y in zip(mnist.test.images, mnist.test.labels):\n",
    "        z1 = np.dot(x, W1) + b1\n",
    "        a1 = sigmoid(z1)\n",
    "        z2 = np.dot(a1, W2)+ b2\n",
    "        a2 = sigmoid(z2)\n",
    "        \n",
    "        count += 1\n",
    "        if( np.argmax(a2) == np.argmax(y)):\n",
    "            match += 1\n",
    "            \n",
    "    print(mnist.train.epochs_completed+1, match/count)\n",
    "            \n"
   ]
  },
  {
   "cell_type": "code",
   "execution_count": null,
   "metadata": {},
   "outputs": [],
   "source": []
  }
 ],
 "metadata": {
  "kernelspec": {
   "display_name": "Python 3",
   "language": "python",
   "name": "python3"
  },
  "language_info": {
   "codemirror_mode": {
    "name": "ipython",
    "version": 3
   },
   "file_extension": ".py",
   "mimetype": "text/x-python",
   "name": "python",
   "nbconvert_exporter": "python",
   "pygments_lexer": "ipython3",
   "version": "3.5.4"
  }
 },
 "nbformat": 4,
 "nbformat_minor": 2
}
